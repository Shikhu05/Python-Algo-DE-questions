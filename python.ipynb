{
  "cells": [
    {
      "cell_type": "code",
      "execution_count": null,
      "metadata": {
        "application/vnd.databricks.v1+cell": {
          "cellMetadata": {
            "byteLimit": 2048000,
            "rowLimit": 10000
          },
          "inputWidgets": {},
          "nuid": "7e0687b3-435e-4eac-b09a-ba78cb308059",
          "showTitle": false,
          "title": ""
        },
        "id": "utqRk3CCVg-E",
        "outputId": "1c34a5f0-de8f-4b55-d82f-5bb2b53ae920"
      },
      "outputs": [
        {
          "output_type": "stream",
          "name": "stdout",
          "text": [
            "results [11, 22, 33, 44, 55, 66, 77, 88, 99, 100]\n"
          ]
        }
      ],
      "source": [
        "\n",
        "# list flatten a list: [1,2,[3,4, [5],[6,7,[8,[9]]]]]\n",
        "\n",
        "listt = [1,2,[3,4, [5],[6,7,[8,[9]]]]]\n",
        "listt = [[11, 22, 33, 44], [55, [66, 77]], [88, 99, 100]]\n",
        "\n",
        "\n",
        "result = []\n",
        "\n",
        "def flat_list(listt):\n",
        "    for i in listt:\n",
        "        if isinstance(i, list):\n",
        "\n",
        "            for j in i :\n",
        "                if isinstance(j, list):\n",
        "                    flat_list(j)\n",
        "                else:\n",
        "                    result.append(j)\n",
        "        else:\n",
        "            result.append(i)\n",
        "\n",
        "flat_list(listt)\n",
        "\n",
        "print( 'results', result)\n",
        "\n",
        "# o[n] as each element vistied once\n",
        "\n",
        "# other approach -\n"
      ]
    },
    {
      "cell_type": "code",
      "execution_count": null,
      "metadata": {
        "application/vnd.databricks.v1+cell": {
          "cellMetadata": {
            "byteLimit": 2048000,
            "rowLimit": 10000
          },
          "inputWidgets": {},
          "nuid": "902088c2-2a3c-45b7-a1ff-a54cb0a3cccc",
          "showTitle": false,
          "title": ""
        },
        "id": "g7RFJ2AOVg-G",
        "outputId": "cee30853-fd7c-4d52-b240-6bc6e8ee58fb"
      },
      "outputs": [
        {
          "output_type": "stream",
          "name": "stdout",
          "text": [
            "h\n"
          ]
        }
      ],
      "source": [
        "# Find maximum occurring character in a string\n",
        "\n",
        "string = 'geeksforgeeks'\n",
        "string = 'shikha'\n",
        "res_d = {}\n",
        "\n",
        "for i in string:\n",
        "    if i not in res_d:\n",
        "        res_d[i] = 1\n",
        "    else:\n",
        "        res_d[i] += 1\n",
        "\n",
        "v_max = 0\n",
        "for v in res_d.values():\n",
        "    if v > v_max:\n",
        "        v_max = v\n",
        "\n",
        "for k,v in res_d.items():\n",
        "    if v == v_max:\n",
        "        print( k)\n"
      ]
    },
    {
      "cell_type": "code",
      "execution_count": null,
      "metadata": {
        "application/vnd.databricks.v1+cell": {
          "cellMetadata": {
            "byteLimit": 2048000,
            "rowLimit": 10000
          },
          "inputWidgets": {},
          "nuid": "c22ccc1e-fd14-49cb-b00f-302fb7d5a236",
          "showTitle": false,
          "title": ""
        },
        "id": "7sOI7jn1Vg-H",
        "outputId": "c9e3e3fc-425e-42c7-f4b0-f80a9ed349b0"
      },
      "outputs": [
        {
          "output_type": "stream",
          "name": "stdout",
          "text": [
            "f\n"
          ]
        }
      ],
      "source": [
        "# Find first non-repeating character of given String\n",
        "\n",
        "inpu =  'geeksforgeeks'\n",
        "\n",
        "res_d = {}\n",
        "\n",
        "for i in inpu:\n",
        "    if i not in res_d:\n",
        "        res_d[i] = 1\n",
        "    else:\n",
        "        res_d[i] += 1\n",
        "\n",
        "\n",
        "for char in inpu:\n",
        "    if res_d[char] == 1 :\n",
        "        res = char\n",
        "        break\n",
        "\n",
        "if not res :\n",
        "    print('None')\n",
        "else:\n",
        "    print(res)\n",
        "\n",
        "\n",
        "\n",
        "# or\n",
        "\n",
        "# f_c = len(inpu)\n",
        "# res = ''\n",
        "\n",
        "# for k,v in res_d.items():\n",
        "#     if v == 1:\n",
        "#         if f_c > inpu.index(k):\n",
        "#             res = k\n",
        "#             f_c = v\n",
        "#         elif f_c == inpu.index(k):\n",
        "#             res += k\n",
        "#             f_c = v\n",
        "#         else:\n",
        "#             continue\n",
        "# print( res)\n",
        "\n",
        "\n",
        "\n",
        "\n"
      ]
    },
    {
      "cell_type": "code",
      "execution_count": null,
      "metadata": {
        "application/vnd.databricks.v1+cell": {
          "cellMetadata": {
            "byteLimit": 2048000,
            "rowLimit": 10000
          },
          "inputWidgets": {},
          "nuid": "abdb824c-c25f-4281-aea5-4ffa8a0f5058",
          "showTitle": false,
          "title": ""
        },
        "id": "vIiMIsD5Vg-I",
        "outputId": "7278f78d-ccd9-4e85-e14c-f8acc5721296"
      },
      "outputs": [
        {
          "output_type": "stream",
          "name": "stdout",
          "text": [
            "['Learning', 'from']\n"
          ]
        }
      ],
      "source": [
        "# Complete a function that returns a list containing mismatched words in two strings. The return list can be in any order.\n",
        "A = 'Geeks for Geeks'\n",
        "B = 'Learning from Geeks for Geeks'\n",
        "# Output : [‘Learning’, ‘from’]\n",
        "\n",
        "result = []\n",
        "\n",
        "for i in A.split(' ') :\n",
        "    if i not in B:\n",
        "        result.append(i)\n",
        "\n",
        "for j in B.split(' '):\n",
        "    if j not in A:\n",
        "        result.append(j)\n",
        "\n",
        "print(result)\n"
      ]
    },
    {
      "cell_type": "code",
      "execution_count": null,
      "metadata": {
        "application/vnd.databricks.v1+cell": {
          "cellMetadata": {
            "byteLimit": 2048000,
            "rowLimit": 10000
          },
          "inputWidgets": {},
          "nuid": "9436c3b7-2649-435a-85a8-12780324914a",
          "showTitle": false,
          "title": ""
        },
        "id": "8_g-YsgAVg-J",
        "outputId": "cfe20eda-ad40-4321-b258-8b823538c522"
      },
      "outputs": [
        {
          "output_type": "stream",
          "name": "stdout",
          "text": [
            "lee(t(c)o)de\n"
          ]
        }
      ],
      "source": [
        "#  Minimum Remove to Make Valid Parentheses\n",
        "\"\"\"\n",
        "Example 1:\n",
        "\n",
        "Input: s = \"lee(t(c)o)de)\"\n",
        "Output: \"lee(t(c)o)de\"\n",
        "Explanation: \"lee(t(co)de)\" , \"lee(t(c)ode)\" would also be accepted.\n",
        "Example 2:\n",
        "\n",
        "Input: s = \"a)b(c)d\"\n",
        "Output: \"ab(c)d\"\n",
        "\"\"\"\n",
        "s = \"lee(t(c)o)de)\"\n",
        "\n",
        "index_to_remove = set()\n",
        "stack_bracket = set() # should be null for valid paranthethis\n",
        "\n",
        "for i,c in enumerate(s):\n",
        "    if c not in ('()'):\n",
        "        continue\n",
        "    elif c == '(' :\n",
        "        stack_bracket.add(i)\n",
        "    elif not stack_bracket:\n",
        "        index_to_remove.add(i)\n",
        "    else :\n",
        "        stack_bracket.pop()\n",
        "\n",
        "index_to_remove_val = index_to_remove.union(stack_bracket)\n",
        "\n",
        "res = ''\n",
        "\n",
        "for i,c in enumerate(s):\n",
        "    if i not in index_to_remove_val:\n",
        "        res += c\n",
        "\n",
        "print(res)\n"
      ]
    },
    {
      "cell_type": "code",
      "execution_count": null,
      "metadata": {
        "application/vnd.databricks.v1+cell": {
          "cellMetadata": {
            "byteLimit": 2048000,
            "rowLimit": 10000
          },
          "inputWidgets": {},
          "nuid": "841cae64-bda8-416d-a7cb-d9f9a07073b3",
          "showTitle": false,
          "title": ""
        },
        "id": "xIOKm1s9Vg-J",
        "outputId": "5acef712-0209-4518-9110-ef371f28c175"
      },
      "outputs": [
        {
          "output_type": "stream",
          "name": "stdout",
          "text": [
            "False\n"
          ]
        }
      ],
      "source": [
        "# valid paranthetis\n",
        "\n",
        "s = '()[]'\n",
        "s = '(]'\n",
        "\n",
        "def isValid(s):\n",
        "    mapp = {   ')' : '(',\n",
        "            '}' : '{',\n",
        "            ']' : '['\n",
        "        }\n",
        "    track = []\n",
        "    new_s = ''\n",
        "    for c in s:\n",
        "        if c in (\")\", \"(\", \"}\", \"{\", \"]\", \"[\"):\n",
        "            new_s += c\n",
        "\n",
        "    for c in new_s:\n",
        "        if c in mapp:\n",
        "            if not track:\n",
        "                element = track.pop()\n",
        "            else:\n",
        "                element = '#'\n",
        "\n",
        "            if element != mapp[c]:\n",
        "                return False\n",
        "\n",
        "        else:\n",
        "            track.append(c)\n",
        "\n",
        "    print(new_s, ' s: ', s, ' track: ', track )\n",
        "\n",
        "    if track is not null:\n",
        "        return False\n",
        "\n",
        "    print (new_s)\n",
        "    return True\n",
        "\n",
        "stringgfg = '[()]'\n",
        "\n",
        "a = isValid(stringgfg)\n",
        "print(a)"
      ]
    },
    {
      "cell_type": "code",
      "execution_count": null,
      "metadata": {
        "application/vnd.databricks.v1+cell": {
          "cellMetadata": {
            "byteLimit": 2048000,
            "rowLimit": 10000
          },
          "inputWidgets": {},
          "nuid": "70dd50de-180d-4486-b5da-91fff09b1b1f",
          "showTitle": false,
          "title": ""
        },
        "id": "NnN0ydTXVg-K",
        "outputId": "a83f2449-48fe-4bc4-f1fc-2c4587f64ecd"
      },
      "outputs": [
        {
          "output_type": "stream",
          "name": "stdout",
          "text": [
            "True\nchck_as is_is :  True\n"
          ]
        }
      ],
      "source": [
        "# 680. Valid Palindrome II after deleting at most one character from it.\n",
        "'''Example 1:\n",
        "\n",
        "Input: s = \"aba\"\n",
        "Output: true\n",
        "Example 2:\n",
        "\n",
        "Input: s = \"abca\"\n",
        "Output: true\n",
        "Explanation: You could delete the character 'c'.\n",
        "Example 3:\n",
        "\n",
        "Input: s = \"abc\"\n",
        "Output: false\n",
        "'''\n",
        "\n",
        "s = 'abcba'\n",
        "\n",
        "def validPalindrome(s):\n",
        "\n",
        "    left = 0\n",
        "    right = len(s) -1\n",
        "    def chck_palindrom(s,left,right):\n",
        "        while left < right :\n",
        "            if s[left] != s[right]:\n",
        "                return False\n",
        "            left += 1\n",
        "            right -= 1\n",
        "        return True\n",
        "\n",
        "    while left < right :\n",
        "        if s[left] != s[right]:\n",
        "            return chck_palindrom(s,left, right-1) or chck_palindrom(s, left+1, right)\n",
        "        left += 1\n",
        "        right -= 1\n",
        "\n",
        "    return True\n",
        "\n",
        "print(validPalindrome(s))\n",
        "\n",
        "\n",
        "\n",
        "\n",
        "def chck_palindrom(s):\n",
        "    left = 0\n",
        "    right = len(s) -1\n",
        "    while left < right :\n",
        "        if s[left] != s[right]:\n",
        "            return False\n",
        "        left += 1\n",
        "        right -= 1\n",
        "    return True\n",
        "\n",
        "\n",
        "print('chck if palindrom: ' ,chck_palindrom(s))\n",
        "\n"
      ]
    },
    {
      "cell_type": "code",
      "execution_count": null,
      "metadata": {
        "application/vnd.databricks.v1+cell": {
          "cellMetadata": {},
          "inputWidgets": {},
          "nuid": "fcf71aad-b5f4-4016-80eb-81681b9fe444",
          "showTitle": false,
          "title": ""
        },
        "colab": {
          "base_uri": "https://localhost:8080/"
        },
        "id": "KoSK-caiVg-K",
        "outputId": "7744b363-b4a1-49d2-a505-3e5cd8274ed8"
      },
      "outputs": [
        {
          "output_type": "stream",
          "name": "stdout",
          "text": [
            "[3]\n"
          ]
        }
      ],
      "source": [
        "# Buildings With an Ocean View\n",
        "\n",
        "\"\"\"\n",
        "Example 1:\n",
        "\n",
        "Input: heights = [4,2,3,1]\n",
        "Output: [0,2,3]\n",
        "Explanation: Building 1 (0-indexed) does not have an ocean view because building 2 is taller.\n",
        "Example 2:\n",
        "\n",
        "Input: heights = [4,3,2,1]\n",
        "Output: [0,1,2,3]\n",
        "Explanation: All the buildings have an ocean view.\n",
        "Example 3:\n",
        "\n",
        "Input: heights = [1,3,2,4]\n",
        "Output: [3]\n",
        "Explanation: Only building 3 has an ocean view.\n",
        "\"\"\"\n",
        "\n",
        "heights = [5,4,3,5]\n",
        "\n",
        "index_have_view = []\n",
        "l = len(heights)\n",
        "max_height = -1\n",
        "\n",
        "for i in reversed(range(l)):\n",
        "    if heights[i] > max_height:\n",
        "        index_have_view.append(i)\n",
        "        max_height = heights[i]\n",
        "\n",
        "print(sorted(index_have_view))\n",
        "\n",
        "\n",
        "\n",
        "\n",
        "\n",
        "\n"
      ]
    },
    {
      "cell_type": "code",
      "source": [
        "# find longest substring len non reppeating in array\n",
        "\n",
        "input_string = \"abbabacdasa\"\n",
        "\n",
        "def long_string (input_string):\n",
        "  l = len(input_string)\n",
        "\n",
        "  max_length = 0\n",
        "\n",
        "\n",
        "  for i,c in enumerate(input_string):\n",
        "    curr = 1\n",
        "    set1 = 'c'\n",
        "    for j,c1 in enumerate(input_string[i+1:]):\n",
        "        if c1 in set1:\n",
        "          break\n",
        "        else:\n",
        "          set1 += c1\n",
        "          curr += 1\n",
        "    print(set1)\n",
        "\n",
        "    if max_length < curr:\n",
        "        max_length = curr\n",
        "\n",
        "  return max_length\n",
        "\n",
        "\n",
        "\n",
        "# print(long_string(input_string))\n",
        "\n",
        "\n",
        "\n",
        "# optimized\n",
        "def longest_substring_length(s):\n",
        "    n = len(s)\n",
        "    max_length = 0\n",
        "    char_index = {}  # Dictionary to store the most recent index of each character\n",
        "\n",
        "    start = 0  # Start of the current substring without repeating characters\n",
        "\n",
        "    for end in range(n):\n",
        "        if s[end] in char_index:\n",
        "            # If the current character is repeating, update the start index\n",
        "            start = max(start, char_index[s[end]] + 1)\n",
        "\n",
        "        # Update the index of the current character\n",
        "        char_index[s[end]] = end\n",
        "\n",
        "        # Update the maximum length if needed\n",
        "        max_length = max(max_length, end - start + 1)\n",
        "    print(max_length, start, end-1)\n",
        "    return max_length\n",
        "\n",
        "# Example usage:\n",
        "# input_string = \"abbabacdasa\"\n",
        "# print(longest_substring_length(input_string))\n",
        "\n",
        "\n",
        "# // to return the substring\n",
        "def longest_substring(s):\n",
        "    char_index = {}  # Dictionary to store the most recent index of each character\n",
        "    start = 0  # Start of the current substring without repeating characters\n",
        "    longest_substring = ''  # Longest substring without repeating characters found so far\n",
        "\n",
        "    for end, char in enumerate(s):\n",
        "        if char in char_index:\n",
        "            # If the current character is repeating, update the start index\n",
        "            start = max(start, char_index[char] + 1)\n",
        "\n",
        "        # Update the index of the current character\n",
        "        char_index[char] = end\n",
        "\n",
        "        # Update the longest substring if needed\n",
        "        if end - start + 1 > len(longest_substring):\n",
        "            longest_substring = s[start:end + 1]\n",
        "\n",
        "    return longest_substring\n",
        "\n",
        "# Example usage:\n",
        "input_string = \"abbabacdsa\"\n",
        "print(longest_substring(input_string))\n",
        "\n",
        "\n"
      ],
      "metadata": {
        "colab": {
          "base_uri": "https://localhost:8080/"
        },
        "id": "cS7oddZXWRmy",
        "outputId": "9ef910ea-bd0b-4cf8-a797-ccde5c668b52"
      },
      "execution_count": null,
      "outputs": [
        {
          "output_type": "stream",
          "name": "stdout",
          "text": [
            "bacds\n"
          ]
        }
      ]
    },
    {
      "cell_type": "code",
      "source": [
        "#Question 15: Find the key with the maximum value in a dictionary.\n",
        "person =  {\"name\": 1, \"age\": 30, \"name1\": 2 , \"age1\": 32, \"name2\": 3, \"age2\": 35 }\n",
        "\n",
        "\n",
        "max_key = max(person, key=person.get)\n",
        "\n",
        "print(max_key)\n",
        "\n",
        "\n"
      ],
      "metadata": {
        "id": "qXTYVgwWF9SG",
        "colab": {
          "base_uri": "https://localhost:8080/"
        },
        "outputId": "f5e109cc-a496-436d-f0af-4f30f74b36d2"
      },
      "execution_count": null,
      "outputs": [
        {
          "output_type": "stream",
          "name": "stdout",
          "text": [
            "age2\n"
          ]
        }
      ]
    },
    {
      "cell_type": "code",
      "source": [
        "# Monotonic Array\n",
        "\n",
        "# Input: nums = [1,2,2,3]\n",
        "# Output: true\n",
        "# Example 2:\n",
        "\n",
        "# Input: nums = [6,5,4,4]\n",
        "# Output: true\n",
        "# Example 3:\n",
        "\n",
        "# Input: nums = [1,3,2]\n",
        "# Output: false\n",
        "\n",
        "nums = [1,3,3,4,6,7]\n",
        "\n",
        "for i in range(len(nums) -2):\n",
        "  if nums[i] >= nums[i+1] and nums[i+1] >= nums[i+2]:\n",
        "    flag = 0\n",
        "  elif nums[i] <= nums[i+1] and nums[i+1] <= nums[i+2]:\n",
        "    flag = 0\n",
        "  else:\n",
        "    flag = 1\n",
        "    print('no')\n",
        "    break\n",
        "\n",
        "if flag == 0:\n",
        "  print('yes')\n",
        "\n"
      ],
      "metadata": {
        "id": "C0X8rei4F9ja",
        "colab": {
          "base_uri": "https://localhost:8080/"
        },
        "outputId": "65182a8d-cd66-4cbc-ac78-9d26039d3b43"
      },
      "execution_count": null,
      "outputs": [
        {
          "output_type": "stream",
          "name": "stdout",
          "text": [
            "yes\n"
          ]
        }
      ]
    },
    {
      "cell_type": "code",
      "source": [
        "# longest Prefix string\n",
        "\n",
        "class Solution(object):\n",
        "    def longestCommonPrefix(self, strs):\n",
        "        \"\"\"\n",
        "        :type strs: List[str]\n",
        "        :rtype: str\n",
        "        \"\"\"\n",
        "        # o[n*m]\n",
        "#         res = ''\n",
        "#         l = len(strs)\n",
        "#         max_chck =  len(min(strs, key=len) )\n",
        "\n",
        "#         if l == 1:\n",
        "#             return strs[0]\n",
        "\n",
        "#         for j in range(max_chck):\n",
        "#             f = 0\n",
        "#             a = ''\n",
        "#             for i in range(l-1):\n",
        "#                 print(strs[i], strs[i+1], strs[i][j])\n",
        "#                 if strs[i][j] == strs[i+1][j]:\n",
        "#                     f = 0\n",
        "#                     a = strs[i][j]\n",
        "#                     print(f, a, ' chck')\n",
        "#                 else:\n",
        "#                     f = 1\n",
        "#                     break\n",
        "\n",
        "#             if f == 0 :\n",
        "#                 res += a\n",
        "#             else:\n",
        "#                 break\n",
        "#         return res\n",
        "\n",
        "\n",
        "\n",
        "        # Find the shortest string in the list - o[n]\n",
        "\n",
        "        if not strs:\n",
        "            return \"\"\n",
        "\n",
        "        shortest = min(strs, key=len)\n",
        "\n",
        "        # Iterate over the characters of the shortest string\n",
        "        for i, char in enumerate(shortest):\n",
        "            # Check if the character at index i is common in all strings\n",
        "            for string in strs:\n",
        "                if string[i] != char:\n",
        "                    return shortest[:i]  # Return the prefix found so far\n",
        "        return shortest"
      ],
      "metadata": {
        "id": "aGXPuut_z4H6"
      },
      "execution_count": null,
      "outputs": []
    },
    {
      "cell_type": "code",
      "source": [
        "# moving zero\n",
        "\n",
        "class Solution(object):\n",
        "    def moveZeroes(self, nums):\n",
        "        for i in nums:\n",
        "            if i == 0:\n",
        "                nums.remove(i)\n",
        "                nums.append(i)"
      ],
      "metadata": {
        "id": "L2zEq1vqX2y8"
      },
      "execution_count": null,
      "outputs": []
    },
    {
      "cell_type": "code",
      "source": [
        "# two sums\n",
        "\n",
        "class Solution(object):\n",
        "    def twoSum(self, nums, target):\n",
        "        \"\"\"\n",
        "        :type nums: List[int]\n",
        "        :type target: int\n",
        "        :rtype: List[int]\n",
        "        \"\"\"\n",
        "        # for i in range(len(nums)):\n",
        "        #     for j in range (i+1, len(nums)):\n",
        "        #         if nums[i] + nums[j] == target:\n",
        "        #             return [i,j]\n",
        "        # return None\n",
        "        dct = dict()\n",
        "        for i,c in enumerate(nums):\n",
        "            new = target - c\n",
        "            if new in dct:\n",
        "                return (dct[new], i)\n",
        "            dct[c] = i\n",
        "        return []\n",
        "\n",
        "\n"
      ],
      "metadata": {
        "id": "EQsMGlxJdV27"
      },
      "execution_count": null,
      "outputs": []
    },
    {
      "cell_type": "code",
      "source": [],
      "metadata": {
        "id": "7GG7OWq9dfee"
      },
      "execution_count": null,
      "outputs": []
    }
  ],
  "metadata": {
    "application/vnd.databricks.v1+notebook": {
      "dashboards": [],
      "language": "python",
      "notebookMetadata": {
        "pythonIndentUnit": 4
      },
      "notebookName": "python",
      "widgets": {}
    },
    "colab": {
      "provenance": []
    },
    "language_info": {
      "name": "python"
    },
    "kernelspec": {
      "name": "python3",
      "display_name": "Python 3"
    }
  },
  "nbformat": 4,
  "nbformat_minor": 0
}